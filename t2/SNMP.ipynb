{
 "cells": [
  {
   "cell_type": "markdown",
   "metadata": {},
   "source": [
    "# Trabalho 2"
   ]
  },
  {
   "cell_type": "markdown",
   "metadata": {},
   "source": [
    "## Start snmpd daemon (agent)"
   ]
  },
  {
   "cell_type": "code",
   "execution_count": null,
   "metadata": {},
   "outputs": [],
   "source": [
    "%%bash\n",
    "\n",
    "sudo service snmpd restart\n",
    "sudo service snmpd status\n",
    "\n",
    "# Mac\n",
    "# sudo launchctl unload /System/Library/LaunchDaemons/org.net-snmp.snmpd.plist\n",
    "# sudo launchctl load -w /System/Library/LaunchDaemons/org.net-snmp.snmpd.plist"
   ]
  },
  {
   "cell_type": "markdown",
   "metadata": {},
   "source": [
    "## List all mibs"
   ]
  },
  {
   "cell_type": "code",
   "execution_count": null,
   "metadata": {},
   "outputs": [],
   "source": [
    "%%bash\n",
    "\n",
    "ls -R /usr/share/snmp/mibs"
   ]
  },
  {
   "cell_type": "markdown",
   "metadata": {},
   "source": [
    "## Show the description of a specific object"
   ]
  },
  {
   "cell_type": "code",
   "execution_count": null,
   "metadata": {},
   "outputs": [],
   "source": [
    "%%bash\n",
    "\n",
    "# Variables\n",
    "OBJECT=\"sysDescr\"\n",
    "MIB=\"/usr/share/snmp/mibs/SNMPv2-MIB.txt\"\n",
    "\n",
    "# Command to extract text from search_string to } excluding the }\n",
    "sed -n \"/$OBJECT OBJECT-TYPE/,/}/p\" $MIB"
   ]
  },
  {
   "cell_type": "markdown",
   "metadata": {},
   "source": [
    "## Using snmpget"
   ]
  },
  {
   "cell_type": "code",
   "execution_count": null,
   "metadata": {},
   "outputs": [],
   "source": [
    "%%bash\n",
    "\n",
    "# snmpget -v <SNMP version> -c <community> <host> <obj1> <obj2> <obj3> \n",
    "\n",
    "snmpget -v 1 -c public localhost sysDescr.0 sysContact.0"
   ]
  },
  {
   "cell_type": "markdown",
   "metadata": {},
   "source": [
    "## Using snmpset"
   ]
  },
  {
   "cell_type": "code",
   "execution_count": null,
   "metadata": {},
   "outputs": [],
   "source": [
    "%%bash\n",
    "\n",
    "snmpset -v 1 -c private localhost sysContact.0 s admin@localhost\n",
    "snmpget -v 1 -c public localhost sysContact.0"
   ]
  },
  {
   "cell_type": "markdown",
   "metadata": {},
   "source": [
    "## Using snmpgetnext"
   ]
  },
  {
   "cell_type": "code",
   "execution_count": null,
   "metadata": {},
   "outputs": [],
   "source": [
    "%%bash\n",
    "\n",
    "snmpgetnext -v 1 -c public localhost system interfaces"
   ]
  },
  {
   "cell_type": "markdown",
   "metadata": {},
   "source": [
    "## Using snmpwalk"
   ]
  },
  {
   "cell_type": "code",
   "execution_count": null,
   "metadata": {},
   "outputs": [],
   "source": [
    "%%bash\n",
    "\n",
    "# run on terminal: sudo tcpdump -i lo -n port 161 -v\n",
    "snmpwalk -v 1 -c public localhost system"
   ]
  },
  {
   "cell_type": "markdown",
   "metadata": {},
   "source": [
    "## Other commands"
   ]
  },
  {
   "cell_type": "code",
   "execution_count": null,
   "metadata": {},
   "outputs": [],
   "source": [
    "%%bash\n",
    "\n",
    "snmptable -v 1 -c public localhost ifTable"
   ]
  },
  {
   "cell_type": "code",
   "execution_count": null,
   "metadata": {},
   "outputs": [],
   "source": [
    "%%bash\n",
    "\n",
    "snmpdelta -v 1 -c public -Cs -CT localhost sysUpTime.0"
   ]
  },
  {
   "cell_type": "code",
   "execution_count": null,
   "metadata": {},
   "outputs": [],
   "source": [
    "%%bash\n",
    "\n",
    "killall snmpdelta"
   ]
  },
  {
   "cell_type": "markdown",
   "metadata": {},
   "source": [
    "## Comparing snmpwalk vs snmpbulkwalk"
   ]
  },
  {
   "cell_type": "code",
   "execution_count": null,
   "metadata": {},
   "outputs": [],
   "source": [
    "%%bash\n",
    "\n",
    "# run on terminal: sudo tcpdump -i lo -n port 161 -v\n",
    "# snmpwalk -v 1 -c public localhost system\n",
    "\n",
    "snmpbulkwalk -v 2c -c public localhost system"
   ]
  },
  {
   "cell_type": "markdown",
   "metadata": {},
   "source": [
    "# Example using pass directive"
   ]
  },
  {
   "cell_type": "markdown",
   "metadata": {},
   "source": [
    "## snmpd.conf"
   ]
  },
  {
   "cell_type": "code",
   "execution_count": null,
   "metadata": {},
   "outputs": [],
   "source": [
    "%%bash\n",
    "\n",
    "# Add pass directive to snmpd.conf\n",
    "sudo tee /etc/snmp/snmpd.conf > /dev/null <<EOF\n",
    "rocommunity public\n",
    "rwcommunity private\n",
    "\n",
    "pass .1.3.6.1.3.1234.1 /usr/bin/python3 /tmp/agent.py\n",
    "EOF\n",
    "\n",
    "# Restart agent - Linux\n",
    "sudo service snmpd restart\n",
    "sudo service snmpd status\n",
    "\n",
    "# Restart agent - Mac\n",
    "# sudo launchctl unload /System/Library/LaunchDaemons/org.net-snmp.snmpd.plist\n",
    "# sudo launchctl load -w /System/Library/LaunchDaemons/org.net-snmp.snmpd.plist"
   ]
  },
  {
   "cell_type": "markdown",
   "metadata": {},
   "source": [
    "## Agent code"
   ]
  },
  {
   "cell_type": "code",
   "execution_count": null,
   "metadata": {},
   "outputs": [],
   "source": [
    "%%writefile /tmp/agent.py\n",
    "\n",
    "#!/usr/bin/env python3\n",
    "\n",
    "import sys\n",
    "import datetime\n",
    "import socket\n",
    "import random\n",
    "import os\n",
    "\n",
    "# Simulação de informações do dispositivo de rede\n",
    "\n",
    "def get_device_name():\n",
    "    return \"MyDevice\"\n",
    "\n",
    "def get_device_location():\n",
    "    return \"Servers Room\"\n",
    "\n",
    "def get_device_uptime():\n",
    "    # Simulando tempo de uptime em segundos\n",
    "    uptime = datetime.datetime.now() - datetime.datetime(2023, 1, 1, 0, 0)\n",
    "    uptime_seconds = int(uptime.total_seconds())\n",
    "    return uptime_seconds * 100\n",
    "\n",
    "def get_interface_admin_status():\n",
    "    # Simulando status administrativo da interface (1 = up, 2 = down)\n",
    "    return random.choice([1, 2])\n",
    "\n",
    "def get_interface_oper_status():\n",
    "    # Simulando status operacional da interface (1 = up, 2 = down, 3 = testing)\n",
    "    return random.choice([1, 2, 3])\n",
    "\n",
    "def get_interface_in_traffic():\n",
    "    # Simulando tráfego de entrada em octetos\n",
    "    return random.randint(1000, 100000)\n",
    "\n",
    "def get_interface_out_traffic():\n",
    "    # Simulando tráfego de saída em octetos\n",
    "    return random.randint(1000, 100000)\n",
    "\n",
    "def get_interface_in_errors():\n",
    "    # Simulando número de pacotes recebidos com erro\n",
    "    return random.randint(0, 10)\n",
    "\n",
    "def get_cpu_utilization():\n",
    "    # Simulando utilização da CPU em percentagem\n",
    "    return random.randint(0, 100)\n",
    "\n",
    "def get_memory_utilization():\n",
    "    # Simulando utilização da memória em percentagem\n",
    "    return random.randint(0, 100)\n",
    "\n",
    "def get_number_of_sessions():\n",
    "    # Simulando número de sessões TCP estabelecidas\n",
    "    return random.randint(10, 50)\n",
    "\n",
    "def get_number_of_interfaces():\n",
    "    filepath = '/tmp/custom_interfaces.txt'\n",
    "    if not os.path.exists(filepath):\n",
    "        with open(filepath, 'w') as f:\n",
    "            f.write(\"5\")\n",
    "        return \"5\"\n",
    "    with open(filepath, 'r') as f:\n",
    "        return f.read()\n",
    "\n",
    "def set_number_of_interfaces(new_interfaces):\n",
    "    if not int(new_interfaces):\n",
    "        return \"ERROR\"\n",
    "    \n",
    "    filepath = '/tmp/custom_interfaces.txt'\n",
    "    with open(filepath, 'w') as f:\n",
    "        f.write(new_interfaces)\n",
    "    return new_interfaces\n",
    "\n",
    "def main():\n",
    "    with open(\"/tmp/agent.log\", 'a') as file:\n",
    "        file.write(' '.join(sys.argv) + '\\n')\n",
    "\n",
    "    if len(sys.argv) < 3:\n",
    "        print(\"Usage: agent.py <request-type> <MIB-oid> [type] [<new-value>]\")\n",
    "        return\n",
    "\n",
    "    request_type = sys.argv[1]\n",
    "    oid = sys.argv[2]\n",
    "\n",
    "    if request_type == \"-g\":  # GET request\n",
    "        if oid == \".1.3.6.1.3.1234.1.1.0\":\n",
    "            print(\".1.3.6.1.3.1234.1.1.0\")\n",
    "            print(\"string\")\n",
    "            print(get_device_name())\n",
    "        elif oid == \".1.3.6.1.3.1234.1.2.0\":\n",
    "            print(\".1.3.6.1.3.1234.1.2.0\")\n",
    "            print(\"string\")\n",
    "            print(get_device_location())\n",
    "        elif oid == \".1.3.6.1.3.1234.1.3.0\":\n",
    "            print(\".1.3.6.1.3.1234.1.3.0\")\n",
    "            print(\"string\")\n",
    "            print(get_device_uptime())\n",
    "        elif oid == \".1.3.6.1.3.1234.1.4.0\":\n",
    "            print(\".1.3.6.1.3.1234.1.4.0\")\n",
    "            print(\"string\")\n",
    "            print(get_interface_admin_status())\n",
    "        elif oid == \".1.3.6.1.3.1234.1.5.0\":\n",
    "            print(\".1.3.6.1.3.1234.1.5.0\")\n",
    "            print(\"string\")\n",
    "            print(get_interface_oper_status())\n",
    "        elif oid == \".1.3.6.1.3.1234.1.6.0\":\n",
    "            print(\".1.3.6.1.3.1234.1.6.0\")\n",
    "            print(\"string\")\n",
    "            print(get_interface_in_traffic())\n",
    "        elif oid == \".1.3.6.1.3.1234.1.7.0\":\n",
    "            print(\".1.3.6.1.3.1234.1.7.0\")\n",
    "            print(\"string\")\n",
    "            print(get_interface_out_traffic())\n",
    "        elif oid == \".1.3.6.1.3.1234.1.8.0\":\n",
    "            print(\".1.3.6.1.3.1234.1.8.0\")\n",
    "            print(\"string\")\n",
    "            print(get_interface_in_errors())\n",
    "        elif oid == \".1.3.6.1.3.1234.1.9.0\":\n",
    "            print(\".1.3.6.1.3.1234.1.9.0\")\n",
    "            print(\"string\")\n",
    "            print(get_cpu_utilization())\n",
    "        elif oid == \".1.3.6.1.3.1234.1.10.0\":\n",
    "            print(\".1.3.6.1.3.1234.1.10.0\")\n",
    "            print(\"string\")\n",
    "            print(get_memory_utilization())\n",
    "        elif oid == \".1.3.6.1.3.1234.1.11.0\":\n",
    "            print(\".1.3.6.1.3.1234.1.11.0\")\n",
    "            print(\"string\")\n",
    "            print(get_number_of_sessions())\n",
    "        elif oid == \".1.3.6.1.3.1234.1.12.0\":\n",
    "            print(\".1.3.6.1.3.1234.1.12.0\")\n",
    "            print(\"string\")\n",
    "            print(get_number_of_interfaces())\n",
    "        else:\n",
    "            print(\"NONE\")\n",
    "    elif request_type == \"-s\":  # SET request\n",
    "        if oid == \".1.3.6.1.3.1234.1.12.0\":\n",
    "            print(\".1.3.6.1.3.1234.1.12.0\")\n",
    "            print(\"string\")\n",
    "            if len(sys.argv) == 5:\n",
    "                print(set_number_of_interfaces(sys.argv[4]))\n",
    "        else:\n",
    "            print(\"NONE\")\n",
    "    else:\n",
    "        print(\"NONE\")\n",
    "\n",
    "if __name__ == \"__main__\":\n",
    "    main()"
   ]
  },
  {
   "cell_type": "markdown",
   "metadata": {},
   "source": [
    "## Testing"
   ]
  },
  {
   "cell_type": "code",
   "execution_count": null,
   "metadata": {},
   "outputs": [],
   "source": [
    "%%bash\n",
    "\n",
    "snmpget -v2c -c public localhost .1.3.6.1.3.1234.1.1.0\n",
    "snmpget -v2c -c public localhost .1.3.6.1.3.1234.1.2.0\n",
    "snmpget -v2c -c public localhost .1.3.6.1.3.1234.1.3.0\n",
    "snmpget -v2c -c public localhost .1.3.6.1.3.1234.1.4.0\n",
    "snmpget -v2c -c public localhost .1.3.6.1.3.1234.1.5.0\n",
    "snmpget -v2c -c public localhost .1.3.6.1.3.1234.1.6.0\n",
    "snmpget -v2c -c public localhost .1.3.6.1.3.1234.1.7.0\n",
    "snmpget -v2c -c public localhost .1.3.6.1.3.1234.1.8.0\n",
    "snmpget -v2c -c public localhost .1.3.6.1.3.1234.1.9.0\n",
    "snmpget -v2c -c public localhost .1.3.6.1.3.1234.1.10.0\n",
    "snmpget -v2c -c public localhost .1.3.6.1.3.1234.1.11.0\n",
    "snmpget -v2c -c public localhost .1.3.6.1.3.1234.1.12.0"
   ]
  },
  {
   "cell_type": "code",
   "execution_count": null,
   "metadata": {},
   "outputs": [],
   "source": [
    "%%bash\n",
    "\n",
    "snmpset -v2c -c private localhost .1.3.6.1.3.1234.1.12.0 s teste"
   ]
  },
  {
   "cell_type": "code",
   "execution_count": null,
   "metadata": {},
   "outputs": [],
   "source": [
    "%%writefile MYMIB.txt\n",
    "\n",
    "MYMIB DEFINITIONS ::= BEGIN\n",
    "\n",
    "IMPORTS\n",
    "    OBJECT-GROUP FROM SNMPv2-CONF\n",
    "    OBJECT-TYPE, experimental FROM SNMPv2-SMI\n",
    "    DisplayString FROM SNMPv2-TC;\n",
    "\n",
    "myMIB MODULE-IDENTITY\n",
    "    LAST-UPDATED \"202406290000Z\"\n",
    "    ORGANIZATION \"PUCRS\"\n",
    "    CONTACT-INFO \"admin@localhost\"\n",
    "    DESCRIPTION \"My MIB\"\n",
    "::= { experimental 1234 }\n",
    "\n",
    "myObjects OBJECT IDENTIFIER ::= { myMIB 1 }\n",
    "\n",
    "myName OBJECT-TYPE\n",
    "    SYNTAX DisplayString\n",
    "    MAX-ACCESS read-only\n",
    "    STATUS current\n",
    "    DESCRIPTION \"Device Name\"\n",
    "    ::= { myObjects 1 }\n",
    "\n",
    "myLocation OBJECT-TYPE\n",
    "    SYNTAX DisplayString\n",
    "    MAX-ACCESS read-only\n",
    "    STATUS current\n",
    "    DESCRIPTION \"Device Location\"\n",
    "    ::= { myObjects 2 }\n",
    "\n",
    "myUptime OBJECT-TYPE\n",
    "    SYNTAX DisplayString\n",
    "    MAX-ACCESS read-only\n",
    "    STATUS current\n",
    "    DESCRIPTION \"Device Uptime\"\n",
    "    ::= { myObjects 3 }\n",
    "\n",
    "myAdminStatus OBJECT-TYPE\n",
    "    SYNTAX DisplayString\n",
    "    MAX-ACCESS read-only\n",
    "    STATUS current\n",
    "    DESCRIPTION \"Interface Admin Status\"\n",
    "    ::= { myObjects 4 }\n",
    "\n",
    "myOperStatus OBJECT-TYPE\n",
    "    SYNTAX DisplayString\n",
    "    MAX-ACCESS read-only\n",
    "    STATUS current\n",
    "    DESCRIPTION \"Interface Oper Status\"\n",
    "    ::= { myObjects 5 }\n",
    "\n",
    "myInTraffic OBJECT-TYPE\n",
    "    SYNTAX DisplayString\n",
    "    MAX-ACCESS read-only\n",
    "    STATUS current\n",
    "    DESCRIPTION \"Interface In Traffic\"\n",
    "    ::= { myObjects 6 }\n",
    "\n",
    "myOutTraffic OBJECT-TYPE\n",
    "    SYNTAX DisplayString\n",
    "    MAX-ACCESS read-only\n",
    "    STATUS current\n",
    "    DESCRIPTION \"Interface Out Traffic\"\n",
    "    ::= { myObjects 7 }\n",
    "\n",
    "myInErrors OBJECT-TYPE\n",
    "    SYNTAX DisplayString\n",
    "    MAX-ACCESS read-only\n",
    "    STATUS current\n",
    "    DESCRIPTION \"Interface In Errors\"\n",
    "    ::= { myObjects 8 }\n",
    "\n",
    "myCPUUtilization OBJECT-TYPE\n",
    "    SYNTAX DisplayString\n",
    "    MAX-ACCESS read-only\n",
    "    STATUS current\n",
    "    DESCRIPTION \"CPU Utilization\"\n",
    "    ::= { myObjects 9 }\n",
    "\n",
    "myMemoryUtilization OBJECT-TYPE\n",
    "    SYNTAX DisplayString\n",
    "    MAX-ACCESS read-only\n",
    "    STATUS current\n",
    "    DESCRIPTION \"Memory Utilization\"\n",
    "    ::= { myObjects 10 }\n",
    "\n",
    "mySessionsNumber OBJECT-TYPE\n",
    "    SYNTAX DisplayString\n",
    "    MAX-ACCESS read-write\n",
    "    STATUS current\n",
    "    DESCRIPTION \"Number of Sessions\"\n",
    "    ::= { myObjects 11 }\n",
    "\n",
    "END"
   ]
  },
  {
   "cell_type": "code",
   "execution_count": null,
   "metadata": {},
   "outputs": [],
   "source": [
    "%%bash\n",
    "\n",
    "snmpget -v2c -c public -M +. -m +MYMIB localhost myName.0\n",
    "snmpget -v2c -c public -M +. -m +MYMIB localhost myLocation.0\n",
    "snmpget -v2c -c public -M +. -m +MYMIB localhost myUptime.0\n",
    "snmpget -v2c -c public -M +. -m +MYMIB localhost myAdminStatus.0\n",
    "snmpget -v2c -c public -M +. -m +MYMIB localhost myOperStatus.0\n",
    "snmpget -v2c -c public -M +. -m +MYMIB localhost myInTraffic.0\n",
    "snmpget -v2c -c public -M +. -m +MYMIB localhost myOutTraffic.0\n",
    "snmpget -v2c -c public -M +. -m +MYMIB localhost myInErrors.0\n",
    "snmpget -v2c -c public -M +. -m +MYMIB localhost myCPUUtilization.0\n",
    "snmpget -v2c -c public -M +. -m +MYMIB localhost myMemoryUtilization.0\n",
    "snmpget -v2c -c public -M +. -m +MYMIB localhost mySessionsNumber.0"
   ]
  },
  {
   "cell_type": "code",
   "execution_count": null,
   "metadata": {},
   "outputs": [],
   "source": [
    "%%bash\n",
    "\n",
    "snmpgetnext -v2c -c public -M +. -m +MYMIB localhost MYMIB::myName.0\n",
    "snmpgetnext -v2c -c public -M +. -m +MYMIB localhost MYMIB::myLocation.0\n",
    "snmpgetnext -v2c -c public -M +. -m +MYMIB localhost MYMIB::myUptime.0\n",
    "snmpgetnext -v2c -c public -M +. -m +MYMIB localhost MYMIB::myAdminStatus.0\n",
    "snmpgetnext -v2c -c public -M +. -m +MYMIB localhost MYMIB::myOperStatus.0\n",
    "snmpgetnext -v2c -c public -M +. -m +MYMIB localhost MYMIB::myInTraffic.0\n",
    "snmpgetnext -v2c -c public -M +. -m +MYMIB localhost MYMIB::myOutTraffic.0\n",
    "snmpgetnext -v2c -c public -M +. -m +MYMIB localhost MYMIB::myInErrors.0\n",
    "snmpgetnext -v2c -c public -M +. -m +MYMIB localhost MYMIB::myCPUUtilization.0\n",
    "snmpgetnext -v2c -c public -M +. -m +MYMIB localhost MYMIB::myMemoryUtilization.0\n",
    "snmpgetnext -v2c -c public -M +. -m +MYMIB localhost MYMIB::mySessionsNumber.0"
   ]
  },
  {
   "cell_type": "code",
   "execution_count": null,
   "metadata": {},
   "outputs": [],
   "source": [
    "%%bash\n",
    "\n",
    "snmpset -v2c -c private -M +. -m +MYMIB localhost mySessionsNumber.0 s 1"
   ]
  }
 ],
 "metadata": {
  "kernelspec": {
   "display_name": "Python 3",
   "language": "python",
   "name": "python3"
  },
  "language_info": {
   "codemirror_mode": {
    "name": "ipython",
    "version": 3
   },
   "file_extension": ".py",
   "mimetype": "text/x-python",
   "name": "python",
   "nbconvert_exporter": "python",
   "pygments_lexer": "ipython3",
   "version": "3.6.15"
  }
 },
 "nbformat": 4,
 "nbformat_minor": 2
}
